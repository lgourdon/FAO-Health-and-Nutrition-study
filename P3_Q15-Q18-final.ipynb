{
 "cells": [
  {
   "cell_type": "code",
   "execution_count": 1,
   "metadata": {},
   "outputs": [],
   "source": [
    "# Import des librairies\n",
    "import numpy as np\n",
    "import pandas as pd\n",
    "\n",
    "from pandas import Series,DataFrame"
   ]
  },
  {
   "cell_type": "markdown",
   "metadata": {},
   "source": [
    "# Question 15 #\n",
    "* création d'une table appelée population, contenant la population de chaque pays pour chaque année comprise entre 2012 et la dernière année disponible de la FAO\n",
    "* Elle devra contenir 4 colonnes : pays, code_pays, annee, population (Je préfère ctry_cd, country year, population)\n",
    "* Proposez une clé primaire pertinente pour cette table.\n",
    "\n",
    "**NB :** la dernière année étant 2013, j'ai choisi d'importer 2010-2013 pour avoir 4 années"
   ]
  },
  {
   "cell_type": "code",
   "execution_count": 2,
   "metadata": {},
   "outputs": [
    {
     "data": {
      "text/html": [
       "<div>\n",
       "<style scoped>\n",
       "    .dataframe tbody tr th:only-of-type {\n",
       "        vertical-align: middle;\n",
       "    }\n",
       "\n",
       "    .dataframe tbody tr th {\n",
       "        vertical-align: top;\n",
       "    }\n",
       "\n",
       "    .dataframe thead th {\n",
       "        text-align: right;\n",
       "    }\n",
       "</style>\n",
       "<table border=\"1\" class=\"dataframe\">\n",
       "  <thead>\n",
       "    <tr style=\"text-align: right;\">\n",
       "      <th></th>\n",
       "      <th>Domain Code</th>\n",
       "      <th>Domain</th>\n",
       "      <th>Country Code</th>\n",
       "      <th>Country</th>\n",
       "      <th>Element Code</th>\n",
       "      <th>Element</th>\n",
       "      <th>Item Code</th>\n",
       "      <th>Item</th>\n",
       "      <th>Year Code</th>\n",
       "      <th>Year</th>\n",
       "      <th>Unit</th>\n",
       "      <th>Value</th>\n",
       "      <th>Flag</th>\n",
       "      <th>Flag Description</th>\n",
       "    </tr>\n",
       "  </thead>\n",
       "  <tbody>\n",
       "    <tr>\n",
       "      <th>0</th>\n",
       "      <td>FBS</td>\n",
       "      <td>Food Balance Sheets</td>\n",
       "      <td>2</td>\n",
       "      <td>Afghanistan</td>\n",
       "      <td>511</td>\n",
       "      <td>Total Population - Both sexes</td>\n",
       "      <td>2501</td>\n",
       "      <td>Population</td>\n",
       "      <td>2010</td>\n",
       "      <td>2010</td>\n",
       "      <td>1000 persons</td>\n",
       "      <td>28398</td>\n",
       "      <td>NaN</td>\n",
       "      <td>Official data</td>\n",
       "    </tr>\n",
       "  </tbody>\n",
       "</table>\n",
       "</div>"
      ],
      "text/plain": [
       "  Domain Code               Domain  Country Code      Country  Element Code  \\\n",
       "0         FBS  Food Balance Sheets             2  Afghanistan           511   \n",
       "\n",
       "                         Element  Item Code        Item  Year Code  Year  \\\n",
       "0  Total Population - Both sexes       2501  Population       2010  2010   \n",
       "\n",
       "           Unit  Value Flag Flag Description  \n",
       "0  1000 persons  28398  NaN    Official data  "
      ]
     },
     "execution_count": 2,
     "metadata": {},
     "output_type": "execute_result"
    }
   ],
   "source": [
    "# Import des données 'db_population 2010-2013' de la FAO\n",
    "pop = pd.read_csv('data/db_population 2010-2013.csv')\n",
    "pop.head(1)"
   ]
  },
  {
   "cell_type": "markdown",
   "metadata": {},
   "source": [
    "### 15.1 - data wrangling, création du dataframe"
   ]
  },
  {
   "cell_type": "code",
   "execution_count": 3,
   "metadata": {},
   "outputs": [
    {
     "data": {
      "text/html": [
       "<div>\n",
       "<style scoped>\n",
       "    .dataframe tbody tr th:only-of-type {\n",
       "        vertical-align: middle;\n",
       "    }\n",
       "\n",
       "    .dataframe tbody tr th {\n",
       "        vertical-align: top;\n",
       "    }\n",
       "\n",
       "    .dataframe thead th {\n",
       "        text-align: right;\n",
       "    }\n",
       "</style>\n",
       "<table border=\"1\" class=\"dataframe\">\n",
       "  <thead>\n",
       "    <tr style=\"text-align: right;\">\n",
       "      <th></th>\n",
       "      <th>ctry_cd</th>\n",
       "      <th>country</th>\n",
       "      <th>year</th>\n",
       "      <th>population</th>\n",
       "    </tr>\n",
       "  </thead>\n",
       "  <tbody>\n",
       "    <tr>\n",
       "      <th>0</th>\n",
       "      <td>2</td>\n",
       "      <td>Afghanistan</td>\n",
       "      <td>2010</td>\n",
       "      <td>28398000</td>\n",
       "    </tr>\n",
       "  </tbody>\n",
       "</table>\n",
       "</div>"
      ],
      "text/plain": [
       "   ctry_cd      country  year  population\n",
       "0        2  Afghanistan  2010    28398000"
      ]
     },
     "execution_count": 3,
     "metadata": {},
     "output_type": "execute_result"
    }
   ],
   "source": [
    "# supression des variables inutiles\n",
    "pop.drop(['Domain Code', 'Domain', 'Element', 'Element Code', 'Item Code', 'Item', \n",
    "          'Year Code', 'Unit', 'Flag','Flag Description'], axis=1, inplace = True)\n",
    "\n",
    "# On renomme les variables de pop\n",
    "pop.columns = ['ctry_cd','country','year','population']\n",
    "\n",
    "# on multiplie 'population' par sa valeur = 1000 persons\n",
    "pop['population'] = pop['population'] * 1000\n",
    "\n",
    "population = pop.copy()\n",
    "population.head(1)"
   ]
  },
  {
   "cell_type": "markdown",
   "metadata": {},
   "source": [
    "### 15.2 - problème de l'agrégat 'China'\n",
    "3 solutions sont possibles:\n",
    "* on conserve le df 'population' en l'état tout en sachant qu'il contient un doublon, l'agrégat 'China' (ctry_cd 351)\n",
    "* on exclut les pays qui constituent l'agrégat 'China' = 96 + 128 + 41 + 214\n",
    "* on exclut l'agrégat 'China' = 351\n",
    "\n",
    "Je choisi de garder 'population' dans son entier en gardant en mémoire l'agrégat pour avoir plus de choix"
   ]
  },
  {
   "cell_type": "code",
   "execution_count": 4,
   "metadata": {
    "scrolled": true
   },
   "outputs": [
    {
     "data": {
      "text/html": [
       "<div>\n",
       "<style scoped>\n",
       "    .dataframe tbody tr th:only-of-type {\n",
       "        vertical-align: middle;\n",
       "    }\n",
       "\n",
       "    .dataframe tbody tr th {\n",
       "        vertical-align: top;\n",
       "    }\n",
       "\n",
       "    .dataframe thead th {\n",
       "        text-align: right;\n",
       "    }\n",
       "</style>\n",
       "<table border=\"1\" class=\"dataframe\">\n",
       "  <thead>\n",
       "    <tr style=\"text-align: right;\">\n",
       "      <th></th>\n",
       "      <th>ctry_cd</th>\n",
       "      <th>country</th>\n",
       "      <th>year</th>\n",
       "      <th>population</th>\n",
       "    </tr>\n",
       "  </thead>\n",
       "  <tbody>\n",
       "    <tr>\n",
       "      <th>0</th>\n",
       "      <td>2</td>\n",
       "      <td>Afghanistan</td>\n",
       "      <td>2010</td>\n",
       "      <td>28398000</td>\n",
       "    </tr>\n",
       "    <tr>\n",
       "      <th>1</th>\n",
       "      <td>2</td>\n",
       "      <td>Afghanistan</td>\n",
       "      <td>2011</td>\n",
       "      <td>29105000</td>\n",
       "    </tr>\n",
       "    <tr>\n",
       "      <th>2</th>\n",
       "      <td>2</td>\n",
       "      <td>Afghanistan</td>\n",
       "      <td>2012</td>\n",
       "      <td>29825000</td>\n",
       "    </tr>\n",
       "    <tr>\n",
       "      <th>3</th>\n",
       "      <td>2</td>\n",
       "      <td>Afghanistan</td>\n",
       "      <td>2013</td>\n",
       "      <td>30552000</td>\n",
       "    </tr>\n",
       "    <tr>\n",
       "      <th>4</th>\n",
       "      <td>3</td>\n",
       "      <td>Albania</td>\n",
       "      <td>2010</td>\n",
       "      <td>3150000</td>\n",
       "    </tr>\n",
       "  </tbody>\n",
       "</table>\n",
       "</div>"
      ],
      "text/plain": [
       "   ctry_cd      country  year  population\n",
       "0        2  Afghanistan  2010    28398000\n",
       "1        2  Afghanistan  2011    29105000\n",
       "2        2  Afghanistan  2012    29825000\n",
       "3        2  Afghanistan  2013    30552000\n",
       "4        3      Albania  2010     3150000"
      ]
     },
     "execution_count": 4,
     "metadata": {},
     "output_type": "execute_result"
    }
   ],
   "source": [
    "# on exclut les pays qui constituent l'agrégat 'China' => ctry_cd 351 = 96 + 128 + 41 + 214\n",
    "popu1 = population[~(population['ctry_cd'].isin([96, 128, 41, 214]))]\n",
    "popu1.head()"
   ]
  },
  {
   "cell_type": "code",
   "execution_count": 5,
   "metadata": {},
   "outputs": [
    {
     "data": {
      "text/html": [
       "<div>\n",
       "<style scoped>\n",
       "    .dataframe tbody tr th:only-of-type {\n",
       "        vertical-align: middle;\n",
       "    }\n",
       "\n",
       "    .dataframe tbody tr th {\n",
       "        vertical-align: top;\n",
       "    }\n",
       "\n",
       "    .dataframe thead th {\n",
       "        text-align: right;\n",
       "    }\n",
       "</style>\n",
       "<table border=\"1\" class=\"dataframe\">\n",
       "  <thead>\n",
       "    <tr style=\"text-align: right;\">\n",
       "      <th></th>\n",
       "      <th>ctry_cd</th>\n",
       "      <th>country</th>\n",
       "      <th>year</th>\n",
       "      <th>population</th>\n",
       "    </tr>\n",
       "  </thead>\n",
       "  <tbody>\n",
       "    <tr>\n",
       "      <th>128</th>\n",
       "      <td>96</td>\n",
       "      <td>China, Hong Kong SAR</td>\n",
       "      <td>2010</td>\n",
       "      <td>7050000</td>\n",
       "    </tr>\n",
       "    <tr>\n",
       "      <th>129</th>\n",
       "      <td>96</td>\n",
       "      <td>China, Hong Kong SAR</td>\n",
       "      <td>2011</td>\n",
       "      <td>7096000</td>\n",
       "    </tr>\n",
       "    <tr>\n",
       "      <th>130</th>\n",
       "      <td>96</td>\n",
       "      <td>China, Hong Kong SAR</td>\n",
       "      <td>2012</td>\n",
       "      <td>7148000</td>\n",
       "    </tr>\n",
       "    <tr>\n",
       "      <th>131</th>\n",
       "      <td>96</td>\n",
       "      <td>China, Hong Kong SAR</td>\n",
       "      <td>2013</td>\n",
       "      <td>7204000</td>\n",
       "    </tr>\n",
       "    <tr>\n",
       "      <th>132</th>\n",
       "      <td>128</td>\n",
       "      <td>China, Macao SAR</td>\n",
       "      <td>2010</td>\n",
       "      <td>535000</td>\n",
       "    </tr>\n",
       "    <tr>\n",
       "      <th>133</th>\n",
       "      <td>128</td>\n",
       "      <td>China, Macao SAR</td>\n",
       "      <td>2011</td>\n",
       "      <td>546000</td>\n",
       "    </tr>\n",
       "    <tr>\n",
       "      <th>134</th>\n",
       "      <td>128</td>\n",
       "      <td>China, Macao SAR</td>\n",
       "      <td>2012</td>\n",
       "      <td>557000</td>\n",
       "    </tr>\n",
       "    <tr>\n",
       "      <th>135</th>\n",
       "      <td>128</td>\n",
       "      <td>China, Macao SAR</td>\n",
       "      <td>2013</td>\n",
       "      <td>566000</td>\n",
       "    </tr>\n",
       "    <tr>\n",
       "      <th>136</th>\n",
       "      <td>41</td>\n",
       "      <td>China, mainland</td>\n",
       "      <td>2010</td>\n",
       "      <td>1359821000</td>\n",
       "    </tr>\n",
       "    <tr>\n",
       "      <th>137</th>\n",
       "      <td>41</td>\n",
       "      <td>China, mainland</td>\n",
       "      <td>2011</td>\n",
       "      <td>1368440000</td>\n",
       "    </tr>\n",
       "    <tr>\n",
       "      <th>138</th>\n",
       "      <td>41</td>\n",
       "      <td>China, mainland</td>\n",
       "      <td>2012</td>\n",
       "      <td>1377065000</td>\n",
       "    </tr>\n",
       "    <tr>\n",
       "      <th>139</th>\n",
       "      <td>41</td>\n",
       "      <td>China, mainland</td>\n",
       "      <td>2013</td>\n",
       "      <td>1385567000</td>\n",
       "    </tr>\n",
       "    <tr>\n",
       "      <th>140</th>\n",
       "      <td>214</td>\n",
       "      <td>China, Taiwan Province of</td>\n",
       "      <td>2010</td>\n",
       "      <td>23146000</td>\n",
       "    </tr>\n",
       "    <tr>\n",
       "      <th>141</th>\n",
       "      <td>214</td>\n",
       "      <td>China, Taiwan Province of</td>\n",
       "      <td>2011</td>\n",
       "      <td>23210000</td>\n",
       "    </tr>\n",
       "    <tr>\n",
       "      <th>142</th>\n",
       "      <td>214</td>\n",
       "      <td>China, Taiwan Province of</td>\n",
       "      <td>2012</td>\n",
       "      <td>23272000</td>\n",
       "    </tr>\n",
       "    <tr>\n",
       "      <th>143</th>\n",
       "      <td>214</td>\n",
       "      <td>China, Taiwan Province of</td>\n",
       "      <td>2013</td>\n",
       "      <td>23330000</td>\n",
       "    </tr>\n",
       "  </tbody>\n",
       "</table>\n",
       "</div>"
      ],
      "text/plain": [
       "     ctry_cd                    country  year  population\n",
       "128       96       China, Hong Kong SAR  2010     7050000\n",
       "129       96       China, Hong Kong SAR  2011     7096000\n",
       "130       96       China, Hong Kong SAR  2012     7148000\n",
       "131       96       China, Hong Kong SAR  2013     7204000\n",
       "132      128           China, Macao SAR  2010      535000\n",
       "133      128           China, Macao SAR  2011      546000\n",
       "134      128           China, Macao SAR  2012      557000\n",
       "135      128           China, Macao SAR  2013      566000\n",
       "136       41            China, mainland  2010  1359821000\n",
       "137       41            China, mainland  2011  1368440000\n",
       "138       41            China, mainland  2012  1377065000\n",
       "139       41            China, mainland  2013  1385567000\n",
       "140      214  China, Taiwan Province of  2010    23146000\n",
       "141      214  China, Taiwan Province of  2011    23210000\n",
       "142      214  China, Taiwan Province of  2012    23272000\n",
       "143      214  China, Taiwan Province of  2013    23330000"
      ]
     },
     "execution_count": 5,
     "metadata": {},
     "output_type": "execute_result"
    }
   ],
   "source": [
    "# on choisit les pays qui constituent l'agrégat 'China' => ctry_cd 351 = 96 + 128 + 41 + 214\n",
    "popu2 = population[(population['ctry_cd'].isin([96, 128, 41, 214]))]\n",
    "popu2"
   ]
  },
  {
   "cell_type": "markdown",
   "metadata": {},
   "source": [
    "### 15.3 - La clé primaire pertinente est [ctry_cd, year]\n",
    "* le country code n'est pas unique, il dépend aussi des valeurs de la variable 'year'\n",
    "* Dans SQL la PK doit être unique, il faudrait rajouter une colonne pour concaténer les valeurs pour avoir une clé unique\n",
    "* Mais la méthode GROUP BY de SQL nous permet de faire la même chose sans avoir à créer une colonne concatenate"
   ]
  },
  {
   "cell_type": "code",
   "execution_count": 6,
   "metadata": {},
   "outputs": [],
   "source": [
    "# Export au format .csv - Attention ici l'agregat 'China' est inclus\n",
    "population.to_csv('data/population.csv', index = False)"
   ]
  },
  {
   "cell_type": "markdown",
   "metadata": {},
   "source": [
    "# Question 16 # \n",
    "Créez une table appelée **dispo_alim** contenant pour **chaque pays**, pour **chaque produit**, et pour **chaque année** comprise entre 2012 et la dernière année disponible, les informations suivantes:\n",
    "* la nature du produit (deux valeurs possibles : “animal” ou “végétal”)\n",
    "* disponibilité alimentaire en tonnes\n",
    "* disponibilité alimentaire en Kcal/personne/jour\n",
    "* disponibilité alimentaire de protéines en g/personne/jour\n",
    "* disponibilité alimentaire de matières grasses en g/personne/jour\n",
    "\n",
    "**NB :** la dernière année étant 2013, j'ai choisi d'importer 2010-2013 pour avoir 4 années"
   ]
  },
  {
   "cell_type": "markdown",
   "metadata": {},
   "source": [
    "### 16.1 - Création de la table végétal/animal par années"
   ]
  },
  {
   "cell_type": "code",
   "execution_count": 7,
   "metadata": {},
   "outputs": [
    {
     "data": {
      "text/plain": [
       "array([2010, 2011, 2012, 2013], dtype=int64)"
      ]
     },
     "execution_count": 7,
     "metadata": {},
     "output_type": "execute_result"
    }
   ],
   "source": [
    "# Import des bilans alimentaires 'vegetal' 2010-2013 (impossible en une fois, fichier trop volumineux pour la db de la FAO)\n",
    "veg1 = pd.read_csv('data/db_vegetal 2010-2011.csv')\n",
    "veg2 = pd.read_csv('data/db_vegetal 2012-2013.csv')\n",
    "# On fait l'union de 'veg1' et de 'veg2'\n",
    "veg = veg1.append(veg2)\n",
    "# check 'Year'\n",
    "veg['Year'].unique()"
   ]
  },
  {
   "cell_type": "code",
   "execution_count": 8,
   "metadata": {},
   "outputs": [
    {
     "data": {
      "text/plain": [
       "array([2010, 2011, 2012, 2013], dtype=int64)"
      ]
     },
     "execution_count": 8,
     "metadata": {},
     "output_type": "execute_result"
    }
   ],
   "source": [
    "# Import des bilans alimentaires 'animal' 2010-2013 (impossible en une fois, fichier trop volumineux pour la db de la FAO)\n",
    "ani1 = pd.read_csv('data/db_animal 2010-2011.csv')\n",
    "ani2 = pd.read_csv('data/db_animal 2012-2013.csv')\n",
    "# On fait l'union de 'veg1' et de 'veg2'\n",
    "ani = ani1.append(ani2)\n",
    "# check 'Year'\n",
    "ani['Year'].unique()"
   ]
  },
  {
   "cell_type": "code",
   "execution_count": 9,
   "metadata": {},
   "outputs": [
    {
     "data": {
      "text/html": [
       "<div>\n",
       "<style scoped>\n",
       "    .dataframe tbody tr th:only-of-type {\n",
       "        vertical-align: middle;\n",
       "    }\n",
       "\n",
       "    .dataframe tbody tr th {\n",
       "        vertical-align: top;\n",
       "    }\n",
       "\n",
       "    .dataframe thead th {\n",
       "        text-align: right;\n",
       "    }\n",
       "</style>\n",
       "<table border=\"1\" class=\"dataframe\">\n",
       "  <thead>\n",
       "    <tr style=\"text-align: right;\">\n",
       "      <th></th>\n",
       "      <th>Country Code</th>\n",
       "      <th>Country</th>\n",
       "      <th>Element</th>\n",
       "      <th>Item Code</th>\n",
       "      <th>Item</th>\n",
       "      <th>Year</th>\n",
       "      <th>Value</th>\n",
       "      <th>origin</th>\n",
       "    </tr>\n",
       "  </thead>\n",
       "  <tbody>\n",
       "    <tr>\n",
       "      <th>0</th>\n",
       "      <td>2</td>\n",
       "      <td>Afghanistan</td>\n",
       "      <td>Production</td>\n",
       "      <td>2731</td>\n",
       "      <td>Bovine Meat</td>\n",
       "      <td>2010</td>\n",
       "      <td>131.0</td>\n",
       "      <td>animal</td>\n",
       "    </tr>\n",
       "    <tr>\n",
       "      <th>1</th>\n",
       "      <td>2</td>\n",
       "      <td>Afghanistan</td>\n",
       "      <td>Production</td>\n",
       "      <td>2731</td>\n",
       "      <td>Bovine Meat</td>\n",
       "      <td>2011</td>\n",
       "      <td>138.0</td>\n",
       "      <td>animal</td>\n",
       "    </tr>\n",
       "  </tbody>\n",
       "</table>\n",
       "</div>"
      ],
      "text/plain": [
       "   Country Code      Country     Element  Item Code         Item  Year  Value  \\\n",
       "0             2  Afghanistan  Production       2731  Bovine Meat  2010  131.0   \n",
       "1             2  Afghanistan  Production       2731  Bovine Meat  2011  138.0   \n",
       "\n",
       "   origin  \n",
       "0  animal  \n",
       "1  animal  "
      ]
     },
     "execution_count": 9,
     "metadata": {},
     "output_type": "execute_result"
    }
   ],
   "source": [
    "# Ajout de la variable origin\n",
    "veg['origin'] = 'vegetal'\n",
    "ani['origin'] = 'animal'\n",
    "\n",
    "# On fait l'union de 'veg' et de 'ani' dans une nouvelle variable\n",
    "ori = ani.append(veg)\n",
    "\n",
    "# On garde les variables utiles mais aussi 'Element' nécessaire pour la 2e série de variables (pivot)\n",
    "ori.drop(['Domain Code', 'Domain', 'Element Code', 'Year Code','Unit','Flag', 'Flag Description'], axis=1, inplace = True)\n",
    "ori.head(1)\n",
    "\n",
    "ori.head(2)"
   ]
  },
  {
   "cell_type": "markdown",
   "metadata": {},
   "source": [
    "### 16.2 - Elle devra contenir ces colonnes \n",
    "* code_pays = ctry_cd\n",
    "* pays = country\n",
    "* année = year\n",
    "* code_produit = item_cd\n",
    "* produit = item\n",
    "* origin = origin\n",
    "\n",
    "**NB :** Je retire la variable 'Unit' qui influe sur la colonne 'Elements', mais nous savons que certaines valeurs de cette colonne contiennent déjà leurs unités. Pour les autres (ex: 'Food'), elles sont expirmées en 1000 tonnes, il faudra conc multiplier par 1000 ces valeurs une fois le pivot effectué fin d'avoir un résultat en 'tonnes'"
   ]
  },
  {
   "cell_type": "code",
   "execution_count": 10,
   "metadata": {},
   "outputs": [
    {
     "data": {
      "text/html": [
       "<div>\n",
       "<style scoped>\n",
       "    .dataframe tbody tr th:only-of-type {\n",
       "        vertical-align: middle;\n",
       "    }\n",
       "\n",
       "    .dataframe tbody tr th {\n",
       "        vertical-align: top;\n",
       "    }\n",
       "\n",
       "    .dataframe thead th {\n",
       "        text-align: right;\n",
       "    }\n",
       "</style>\n",
       "<table border=\"1\" class=\"dataframe\">\n",
       "  <thead>\n",
       "    <tr style=\"text-align: right;\">\n",
       "      <th></th>\n",
       "      <th>ctry_cd</th>\n",
       "      <th>country</th>\n",
       "      <th>element</th>\n",
       "      <th>item_cd</th>\n",
       "      <th>item</th>\n",
       "      <th>year</th>\n",
       "      <th>value</th>\n",
       "      <th>origin</th>\n",
       "    </tr>\n",
       "  </thead>\n",
       "  <tbody>\n",
       "    <tr>\n",
       "      <th>0</th>\n",
       "      <td>2</td>\n",
       "      <td>Afghanistan</td>\n",
       "      <td>Production</td>\n",
       "      <td>2731</td>\n",
       "      <td>Bovine Meat</td>\n",
       "      <td>2010</td>\n",
       "      <td>131.0</td>\n",
       "      <td>animal</td>\n",
       "    </tr>\n",
       "  </tbody>\n",
       "</table>\n",
       "</div>"
      ],
      "text/plain": [
       "   ctry_cd      country     element  item_cd         item  year  value  origin\n",
       "0        2  Afghanistan  Production     2731  Bovine Meat  2010  131.0  animal"
      ]
     },
     "execution_count": 10,
     "metadata": {},
     "output_type": "execute_result"
    }
   ],
   "source": [
    "# On renomme les colonnes\n",
    "ori.columns = ['ctry_cd','country', 'element', 'item_cd', 'item','year','value', 'origin']\n",
    "ori.head(1)"
   ]
  },
  {
   "cell_type": "markdown",
   "metadata": {},
   "source": [
    "### 16.3 - Réalisation du pivot de la colonne 'element'\n",
    "\n",
    "**NB :** cette étape est importante car une fois effectué le df 'pivot' nous aurons à nous en servir plusieurs fois dans les prochaines étapes"
   ]
  },
  {
   "cell_type": "code",
   "execution_count": 11,
   "metadata": {},
   "outputs": [
    {
     "data": {
      "text/plain": [
       "array(['Production', 'Import Quantity', 'Domestic supply quantity',\n",
       "       'Food', 'Food supply quantity (kg/capita/yr)',\n",
       "       'Food supply (kcal/capita/day)',\n",
       "       'Protein supply quantity (g/capita/day)',\n",
       "       'Fat supply quantity (g/capita/day)', 'Seed', 'Losses',\n",
       "       'Export Quantity', 'Feed', 'Other uses', 'Stock Variation',\n",
       "       'Processing'], dtype=object)"
      ]
     },
     "execution_count": 11,
     "metadata": {},
     "output_type": "execute_result"
    }
   ],
   "source": [
    "# valeurs uniques de 'element'\n",
    "ori['element'].unique()"
   ]
  },
  {
   "cell_type": "code",
   "execution_count": 12,
   "metadata": {
    "scrolled": true
   },
   "outputs": [
    {
     "data": {
      "text/html": [
       "<div>\n",
       "<style scoped>\n",
       "    .dataframe tbody tr th:only-of-type {\n",
       "        vertical-align: middle;\n",
       "    }\n",
       "\n",
       "    .dataframe tbody tr th {\n",
       "        vertical-align: top;\n",
       "    }\n",
       "\n",
       "    .dataframe thead th {\n",
       "        text-align: right;\n",
       "    }\n",
       "</style>\n",
       "<table border=\"1\" class=\"dataframe\">\n",
       "  <thead>\n",
       "    <tr style=\"text-align: right;\">\n",
       "      <th></th>\n",
       "      <th>ctry_cd</th>\n",
       "      <th>country</th>\n",
       "      <th>item_cd</th>\n",
       "      <th>item</th>\n",
       "      <th>year</th>\n",
       "      <th>origin</th>\n",
       "      <th>Domestic supply quantity</th>\n",
       "      <th>Export Quantity</th>\n",
       "      <th>Fat supply quantity (g/capita/day)</th>\n",
       "      <th>Feed</th>\n",
       "      <th>...</th>\n",
       "      <th>Food supply (kcal/capita/day)</th>\n",
       "      <th>Food supply quantity (kg/capita/yr)</th>\n",
       "      <th>Import Quantity</th>\n",
       "      <th>Losses</th>\n",
       "      <th>Other uses</th>\n",
       "      <th>Processing</th>\n",
       "      <th>Production</th>\n",
       "      <th>Protein supply quantity (g/capita/day)</th>\n",
       "      <th>Seed</th>\n",
       "      <th>Stock Variation</th>\n",
       "    </tr>\n",
       "  </thead>\n",
       "  <tbody>\n",
       "    <tr>\n",
       "      <th>0</th>\n",
       "      <td>1</td>\n",
       "      <td>Armenia</td>\n",
       "      <td>2511</td>\n",
       "      <td>Wheat and products</td>\n",
       "      <td>2010</td>\n",
       "      <td>vegetal</td>\n",
       "      <td>505.0</td>\n",
       "      <td>0.0</td>\n",
       "      <td>3.46</td>\n",
       "      <td>61.0</td>\n",
       "      <td>...</td>\n",
       "      <td>978.0</td>\n",
       "      <td>125.41</td>\n",
       "      <td>353.0</td>\n",
       "      <td>38.0</td>\n",
       "      <td>1.0</td>\n",
       "      <td>12.0</td>\n",
       "      <td>183.0</td>\n",
       "      <td>29.15</td>\n",
       "      <td>22.0</td>\n",
       "      <td>-31.0</td>\n",
       "    </tr>\n",
       "  </tbody>\n",
       "</table>\n",
       "<p>1 rows × 21 columns</p>\n",
       "</div>"
      ],
      "text/plain": [
       "   ctry_cd  country  item_cd                item  year   origin  \\\n",
       "0        1  Armenia     2511  Wheat and products  2010  vegetal   \n",
       "\n",
       "   Domestic supply quantity  Export Quantity  \\\n",
       "0                     505.0              0.0   \n",
       "\n",
       "   Fat supply quantity (g/capita/day)  Feed       ...         \\\n",
       "0                                3.46  61.0       ...          \n",
       "\n",
       "   Food supply (kcal/capita/day)  Food supply quantity (kg/capita/yr)  \\\n",
       "0                          978.0                               125.41   \n",
       "\n",
       "   Import Quantity  Losses  Other uses  Processing  Production  \\\n",
       "0            353.0    38.0         1.0        12.0       183.0   \n",
       "\n",
       "   Protein supply quantity (g/capita/day)  Seed  Stock Variation  \n",
       "0                                   29.15  22.0            -31.0  \n",
       "\n",
       "[1 rows x 21 columns]"
      ]
     },
     "execution_count": 12,
     "metadata": {},
     "output_type": "execute_result"
    }
   ],
   "source": [
    "# pivot de la variable 'element'\n",
    "pivot = ori.pivot_table(\n",
    "    index=['ctry_cd','country', 'item_cd','item', 'year','origin'],\n",
    "    columns = ['element'], values=['value'], aggfunc=sum)\n",
    "pivot.columns = ['Domestic supply quantity','Export Quantity','Fat supply quantity (g/capita/day)',\n",
    "                 'Feed','Food','Food supply (kcal/capita/day)','Food supply quantity (kg/capita/yr)',\n",
    "                 'Import Quantity','Losses','Other uses','Processing','Production',\n",
    "                 'Protein supply quantity (g/capita/day)','Seed','Stock Variation']\n",
    "pivot = pivot.reset_index()\n",
    "pivot.head(1)"
   ]
  },
  {
   "cell_type": "markdown",
   "metadata": {},
   "source": [
    "* Comme dit ci-dessus, le df 'pivot' servira plusieurs fois plus tard\n",
    "* Il faut garder en mémoire que les variables ne comportant pas d'unités de mesure devoint être multipliées par 1000 pour être exprimées en tonnes"
   ]
  },
  {
   "cell_type": "markdown",
   "metadata": {},
   "source": [
    "### 16.4 - ...Et celles-ci, issues d'un pivot de la colonne 'Element'\n",
    "* dispo_alim_tonnes  =  food_t_ctry_y\n",
    "* dispo_alim_kcal_pj  =  food_kcal_cap_y\n",
    "* dispo_prot  =  protein_g_cap_d\n",
    "* dispo_mat_gr =  fat_g_cap_d\n"
   ]
  },
  {
   "cell_type": "code",
   "execution_count": 13,
   "metadata": {},
   "outputs": [
    {
     "data": {
      "text/html": [
       "<div>\n",
       "<style scoped>\n",
       "    .dataframe tbody tr th:only-of-type {\n",
       "        vertical-align: middle;\n",
       "    }\n",
       "\n",
       "    .dataframe tbody tr th {\n",
       "        vertical-align: top;\n",
       "    }\n",
       "\n",
       "    .dataframe thead th {\n",
       "        text-align: right;\n",
       "    }\n",
       "</style>\n",
       "<table border=\"1\" class=\"dataframe\">\n",
       "  <thead>\n",
       "    <tr style=\"text-align: right;\">\n",
       "      <th></th>\n",
       "      <th>ctry_cd</th>\n",
       "      <th>country</th>\n",
       "      <th>item_cd</th>\n",
       "      <th>item</th>\n",
       "      <th>year</th>\n",
       "      <th>origin</th>\n",
       "      <th>Fat supply quantity (g/capita/day)</th>\n",
       "      <th>Food</th>\n",
       "      <th>Food supply (kcal/capita/day)</th>\n",
       "      <th>Protein supply quantity (g/capita/day)</th>\n",
       "    </tr>\n",
       "  </thead>\n",
       "  <tbody>\n",
       "    <tr>\n",
       "      <th>0</th>\n",
       "      <td>1</td>\n",
       "      <td>Armenia</td>\n",
       "      <td>2511</td>\n",
       "      <td>Wheat and products</td>\n",
       "      <td>2010</td>\n",
       "      <td>vegetal</td>\n",
       "      <td>3.46</td>\n",
       "      <td>372.0</td>\n",
       "      <td>978.0</td>\n",
       "      <td>29.15</td>\n",
       "    </tr>\n",
       "    <tr>\n",
       "      <th>1</th>\n",
       "      <td>1</td>\n",
       "      <td>Armenia</td>\n",
       "      <td>2511</td>\n",
       "      <td>Wheat and products</td>\n",
       "      <td>2011</td>\n",
       "      <td>vegetal</td>\n",
       "      <td>3.58</td>\n",
       "      <td>386.0</td>\n",
       "      <td>1016.0</td>\n",
       "      <td>30.26</td>\n",
       "    </tr>\n",
       "  </tbody>\n",
       "</table>\n",
       "</div>"
      ],
      "text/plain": [
       "   ctry_cd  country  item_cd                item  year   origin  \\\n",
       "0        1  Armenia     2511  Wheat and products  2010  vegetal   \n",
       "1        1  Armenia     2511  Wheat and products  2011  vegetal   \n",
       "\n",
       "   Fat supply quantity (g/capita/day)   Food  Food supply (kcal/capita/day)  \\\n",
       "0                                3.46  372.0                          978.0   \n",
       "1                                3.58  386.0                         1016.0   \n",
       "\n",
       "   Protein supply quantity (g/capita/day)  \n",
       "0                                   29.15  \n",
       "1                                   30.26  "
      ]
     },
     "execution_count": 13,
     "metadata": {},
     "output_type": "execute_result"
    }
   ],
   "source": [
    "# on sélectionne les valeurs requises de l'ex-colonne 'element'\n",
    "dispo = pivot.copy()\n",
    "dispo.drop(['Domestic supply quantity','Export Quantity','Feed','Food supply quantity (kg/capita/yr)','Import Quantity',\n",
    "            'Losses','Other uses','Processing','Production','Seed','Stock Variation'], axis = 1, inplace = True)\n",
    "dispo.head(2)"
   ]
  },
  {
   "cell_type": "code",
   "execution_count": 14,
   "metadata": {},
   "outputs": [
    {
     "data": {
      "text/html": [
       "<div>\n",
       "<style scoped>\n",
       "    .dataframe tbody tr th:only-of-type {\n",
       "        vertical-align: middle;\n",
       "    }\n",
       "\n",
       "    .dataframe tbody tr th {\n",
       "        vertical-align: top;\n",
       "    }\n",
       "\n",
       "    .dataframe thead th {\n",
       "        text-align: right;\n",
       "    }\n",
       "</style>\n",
       "<table border=\"1\" class=\"dataframe\">\n",
       "  <thead>\n",
       "    <tr style=\"text-align: right;\">\n",
       "      <th></th>\n",
       "      <th>ctry_cd</th>\n",
       "      <th>country</th>\n",
       "      <th>item_cd</th>\n",
       "      <th>item</th>\n",
       "      <th>year</th>\n",
       "      <th>origin</th>\n",
       "      <th>fat_g_cap_d</th>\n",
       "      <th>food_t_ctry_y</th>\n",
       "      <th>food_kcal_cap_d</th>\n",
       "      <th>protein_g_cap_d</th>\n",
       "    </tr>\n",
       "  </thead>\n",
       "  <tbody>\n",
       "    <tr>\n",
       "      <th>0</th>\n",
       "      <td>1</td>\n",
       "      <td>Armenia</td>\n",
       "      <td>2511</td>\n",
       "      <td>Wheat and products</td>\n",
       "      <td>2010</td>\n",
       "      <td>vegetal</td>\n",
       "      <td>3.46</td>\n",
       "      <td>372000.0</td>\n",
       "      <td>978.0</td>\n",
       "      <td>29.15</td>\n",
       "    </tr>\n",
       "    <tr>\n",
       "      <th>1</th>\n",
       "      <td>1</td>\n",
       "      <td>Armenia</td>\n",
       "      <td>2511</td>\n",
       "      <td>Wheat and products</td>\n",
       "      <td>2011</td>\n",
       "      <td>vegetal</td>\n",
       "      <td>3.58</td>\n",
       "      <td>386000.0</td>\n",
       "      <td>1016.0</td>\n",
       "      <td>30.26</td>\n",
       "    </tr>\n",
       "  </tbody>\n",
       "</table>\n",
       "</div>"
      ],
      "text/plain": [
       "   ctry_cd  country  item_cd                item  year   origin  fat_g_cap_d  \\\n",
       "0        1  Armenia     2511  Wheat and products  2010  vegetal         3.46   \n",
       "1        1  Armenia     2511  Wheat and products  2011  vegetal         3.58   \n",
       "\n",
       "   food_t_ctry_y  food_kcal_cap_d  protein_g_cap_d  \n",
       "0       372000.0            978.0            29.15  \n",
       "1       386000.0           1016.0            30.26  "
      ]
     },
     "execution_count": 14,
     "metadata": {},
     "output_type": "execute_result"
    }
   ],
   "source": [
    "# On renomme les colonnes\n",
    "dispo.columns = ['ctry_cd','country','item_cd','item','year','origin','fat_g_cap_d','food_t_ctry_y',\n",
    "                 'food_kcal_cap_d','protein_g_cap_d']\n",
    "# on multiplie 'food (t/ctry/y) par 1000\n",
    "dispo['food_t_ctry_y'] = dispo['food_t_ctry_y'] * 1000\n",
    "dispo.head(2)"
   ]
  },
  {
   "cell_type": "markdown",
   "metadata": {},
   "source": [
    "### 16.5 - Proposez une clé primaire pertinente pour cette table\n",
    "* La clé primaire pertinente est [ctry_cd,item_cd,year]"
   ]
  },
  {
   "cell_type": "code",
   "execution_count": 15,
   "metadata": {},
   "outputs": [],
   "source": [
    "# Export au format .csv\n",
    "dispo.to_csv('data/dispo_alim.csv', index = False)"
   ]
  },
  {
   "cell_type": "markdown",
   "metadata": {},
   "source": [
    "# Question 17\n",
    "Une table appelée **equilibre_prod** contenant pour **chaque pays**, pour **chaque produit**, et pour **chaque année** comprise entre 2012 et la dernière année disponible, les quantités suivantes :\n",
    "* disponibilité intérieure, aliments pour animaux, semences, pertes, transformés, nourriture, autres utilisations\n",
    "\n",
    "Elle devra contenir ces colonnes : \n",
    "* pays, code_pays, année, produit, code_produit, dispo_int, alim_ani, semences, pertes, transfo, nourriture, autres_utilisations\n",
    "\n",
    "Proposez une clé primaire pertinente pour cette table.\n",
    "\n",
    "**NB :** une fois encore je renomme les colonnes à ma façon que je trouve plus explicite"
   ]
  },
  {
   "cell_type": "markdown",
   "metadata": {},
   "source": [
    "### 17.1 - data wrangling, création du dataframe"
   ]
  },
  {
   "cell_type": "code",
   "execution_count": 16,
   "metadata": {
    "scrolled": true
   },
   "outputs": [
    {
     "data": {
      "text/html": [
       "<div>\n",
       "<style scoped>\n",
       "    .dataframe tbody tr th:only-of-type {\n",
       "        vertical-align: middle;\n",
       "    }\n",
       "\n",
       "    .dataframe tbody tr th {\n",
       "        vertical-align: top;\n",
       "    }\n",
       "\n",
       "    .dataframe thead th {\n",
       "        text-align: right;\n",
       "    }\n",
       "</style>\n",
       "<table border=\"1\" class=\"dataframe\">\n",
       "  <thead>\n",
       "    <tr style=\"text-align: right;\">\n",
       "      <th></th>\n",
       "      <th>ctry_cd</th>\n",
       "      <th>country</th>\n",
       "      <th>item_cd</th>\n",
       "      <th>item</th>\n",
       "      <th>year</th>\n",
       "      <th>origin</th>\n",
       "      <th>Domestic supply quantity</th>\n",
       "      <th>Export Quantity</th>\n",
       "      <th>Fat supply quantity (g/capita/day)</th>\n",
       "      <th>Feed</th>\n",
       "      <th>...</th>\n",
       "      <th>Food supply (kcal/capita/day)</th>\n",
       "      <th>Food supply quantity (kg/capita/yr)</th>\n",
       "      <th>Import Quantity</th>\n",
       "      <th>Losses</th>\n",
       "      <th>Other uses</th>\n",
       "      <th>Processing</th>\n",
       "      <th>Production</th>\n",
       "      <th>Protein supply quantity (g/capita/day)</th>\n",
       "      <th>Seed</th>\n",
       "      <th>Stock Variation</th>\n",
       "    </tr>\n",
       "  </thead>\n",
       "  <tbody>\n",
       "    <tr>\n",
       "      <th>0</th>\n",
       "      <td>1</td>\n",
       "      <td>Armenia</td>\n",
       "      <td>2511</td>\n",
       "      <td>Wheat and products</td>\n",
       "      <td>2010</td>\n",
       "      <td>vegetal</td>\n",
       "      <td>505.0</td>\n",
       "      <td>0.0</td>\n",
       "      <td>3.46</td>\n",
       "      <td>61.0</td>\n",
       "      <td>...</td>\n",
       "      <td>978.0</td>\n",
       "      <td>125.41</td>\n",
       "      <td>353.0</td>\n",
       "      <td>38.0</td>\n",
       "      <td>1.0</td>\n",
       "      <td>12.0</td>\n",
       "      <td>183.0</td>\n",
       "      <td>29.15</td>\n",
       "      <td>22.0</td>\n",
       "      <td>-31.0</td>\n",
       "    </tr>\n",
       "  </tbody>\n",
       "</table>\n",
       "<p>1 rows × 21 columns</p>\n",
       "</div>"
      ],
      "text/plain": [
       "   ctry_cd  country  item_cd                item  year   origin  \\\n",
       "0        1  Armenia     2511  Wheat and products  2010  vegetal   \n",
       "\n",
       "   Domestic supply quantity  Export Quantity  \\\n",
       "0                     505.0              0.0   \n",
       "\n",
       "   Fat supply quantity (g/capita/day)  Feed       ...         \\\n",
       "0                                3.46  61.0       ...          \n",
       "\n",
       "   Food supply (kcal/capita/day)  Food supply quantity (kg/capita/yr)  \\\n",
       "0                          978.0                               125.41   \n",
       "\n",
       "   Import Quantity  Losses  Other uses  Processing  Production  \\\n",
       "0            353.0    38.0         1.0        12.0       183.0   \n",
       "\n",
       "   Protein supply quantity (g/capita/day)  Seed  Stock Variation  \n",
       "0                                   29.15  22.0            -31.0  \n",
       "\n",
       "[1 rows x 21 columns]"
      ]
     },
     "execution_count": 16,
     "metadata": {},
     "output_type": "execute_result"
    }
   ],
   "source": [
    "# on repart du df 'pivot' de l'exercice 16.3\n",
    "equil=pivot.copy()\n",
    "equil.head(1)"
   ]
  },
  {
   "cell_type": "code",
   "execution_count": 17,
   "metadata": {},
   "outputs": [
    {
     "data": {
      "text/html": [
       "<div>\n",
       "<style scoped>\n",
       "    .dataframe tbody tr th:only-of-type {\n",
       "        vertical-align: middle;\n",
       "    }\n",
       "\n",
       "    .dataframe tbody tr th {\n",
       "        vertical-align: top;\n",
       "    }\n",
       "\n",
       "    .dataframe thead th {\n",
       "        text-align: right;\n",
       "    }\n",
       "</style>\n",
       "<table border=\"1\" class=\"dataframe\">\n",
       "  <thead>\n",
       "    <tr style=\"text-align: right;\">\n",
       "      <th></th>\n",
       "      <th>ctry_cd</th>\n",
       "      <th>country</th>\n",
       "      <th>item_cd</th>\n",
       "      <th>item</th>\n",
       "      <th>year</th>\n",
       "      <th>Domestic supply quantity</th>\n",
       "      <th>Feed</th>\n",
       "      <th>Food</th>\n",
       "      <th>Losses</th>\n",
       "      <th>Other uses</th>\n",
       "      <th>Processing</th>\n",
       "      <th>Seed</th>\n",
       "    </tr>\n",
       "  </thead>\n",
       "  <tbody>\n",
       "    <tr>\n",
       "      <th>0</th>\n",
       "      <td>1</td>\n",
       "      <td>Armenia</td>\n",
       "      <td>2511</td>\n",
       "      <td>Wheat and products</td>\n",
       "      <td>2010</td>\n",
       "      <td>505.0</td>\n",
       "      <td>61.0</td>\n",
       "      <td>372.0</td>\n",
       "      <td>38.0</td>\n",
       "      <td>1.0</td>\n",
       "      <td>12.0</td>\n",
       "      <td>22.0</td>\n",
       "    </tr>\n",
       "    <tr>\n",
       "      <th>1</th>\n",
       "      <td>1</td>\n",
       "      <td>Armenia</td>\n",
       "      <td>2511</td>\n",
       "      <td>Wheat and products</td>\n",
       "      <td>2011</td>\n",
       "      <td>516.0</td>\n",
       "      <td>65.0</td>\n",
       "      <td>386.0</td>\n",
       "      <td>34.0</td>\n",
       "      <td>0.0</td>\n",
       "      <td>12.0</td>\n",
       "      <td>20.0</td>\n",
       "    </tr>\n",
       "  </tbody>\n",
       "</table>\n",
       "</div>"
      ],
      "text/plain": [
       "   ctry_cd  country  item_cd                item  year  \\\n",
       "0        1  Armenia     2511  Wheat and products  2010   \n",
       "1        1  Armenia     2511  Wheat and products  2011   \n",
       "\n",
       "   Domestic supply quantity  Feed   Food  Losses  Other uses  Processing  Seed  \n",
       "0                     505.0  61.0  372.0    38.0         1.0        12.0  22.0  \n",
       "1                     516.0  65.0  386.0    34.0         0.0        12.0  20.0  "
      ]
     },
     "execution_count": 17,
     "metadata": {},
     "output_type": "execute_result"
    }
   ],
   "source": [
    "# on sélectionne les valeurs requises par l'exercice\n",
    "equil.drop(['origin','Export Quantity','Import Quantity','Production','Stock Variation',\n",
    "            'Food supply quantity (kg/capita/yr)','Fat supply quantity (g/capita/day)',\n",
    "            'Food supply (kcal/capita/day)','Protein supply quantity (g/capita/day)'], axis=1, inplace = True)\n",
    "equil.head(2)"
   ]
  },
  {
   "cell_type": "code",
   "execution_count": 18,
   "metadata": {},
   "outputs": [
    {
     "data": {
      "text/html": [
       "<div>\n",
       "<style scoped>\n",
       "    .dataframe tbody tr th:only-of-type {\n",
       "        vertical-align: middle;\n",
       "    }\n",
       "\n",
       "    .dataframe tbody tr th {\n",
       "        vertical-align: top;\n",
       "    }\n",
       "\n",
       "    .dataframe thead th {\n",
       "        text-align: right;\n",
       "    }\n",
       "</style>\n",
       "<table border=\"1\" class=\"dataframe\">\n",
       "  <thead>\n",
       "    <tr style=\"text-align: right;\">\n",
       "      <th></th>\n",
       "      <th>ctry_cd</th>\n",
       "      <th>country</th>\n",
       "      <th>item_cd</th>\n",
       "      <th>item</th>\n",
       "      <th>year</th>\n",
       "      <th>domestic_t_ctry_y</th>\n",
       "      <th>feed_t_ctry_y</th>\n",
       "      <th>food_t_ctry_y</th>\n",
       "      <th>losses_t_ctry_y</th>\n",
       "      <th>other_uses_t_ctry_y</th>\n",
       "      <th>processing_t_ctry_y</th>\n",
       "      <th>seeds_t_ctry_y</th>\n",
       "    </tr>\n",
       "  </thead>\n",
       "  <tbody>\n",
       "    <tr>\n",
       "      <th>0</th>\n",
       "      <td>1</td>\n",
       "      <td>Armenia</td>\n",
       "      <td>2511</td>\n",
       "      <td>Wheat and products</td>\n",
       "      <td>2010</td>\n",
       "      <td>505000.0</td>\n",
       "      <td>61000.0</td>\n",
       "      <td>372000.0</td>\n",
       "      <td>38000.0</td>\n",
       "      <td>1000.0</td>\n",
       "      <td>12000.0</td>\n",
       "      <td>22000.0</td>\n",
       "    </tr>\n",
       "    <tr>\n",
       "      <th>1</th>\n",
       "      <td>1</td>\n",
       "      <td>Armenia</td>\n",
       "      <td>2511</td>\n",
       "      <td>Wheat and products</td>\n",
       "      <td>2011</td>\n",
       "      <td>516000.0</td>\n",
       "      <td>65000.0</td>\n",
       "      <td>386000.0</td>\n",
       "      <td>34000.0</td>\n",
       "      <td>0.0</td>\n",
       "      <td>12000.0</td>\n",
       "      <td>20000.0</td>\n",
       "    </tr>\n",
       "  </tbody>\n",
       "</table>\n",
       "</div>"
      ],
      "text/plain": [
       "   ctry_cd  country  item_cd                item  year  domestic_t_ctry_y  \\\n",
       "0        1  Armenia     2511  Wheat and products  2010           505000.0   \n",
       "1        1  Armenia     2511  Wheat and products  2011           516000.0   \n",
       "\n",
       "   feed_t_ctry_y  food_t_ctry_y  losses_t_ctry_y  other_uses_t_ctry_y  \\\n",
       "0        61000.0       372000.0          38000.0               1000.0   \n",
       "1        65000.0       386000.0          34000.0                  0.0   \n",
       "\n",
       "   processing_t_ctry_y  seeds_t_ctry_y  \n",
       "0              12000.0         22000.0  \n",
       "1              12000.0         20000.0  "
      ]
     },
     "execution_count": 18,
     "metadata": {},
     "output_type": "execute_result"
    }
   ],
   "source": [
    "# On renomme les colonnes\n",
    "equil.columns = ['ctry_cd','country','item_cd','item','year','domestic_t_ctry_y','feed_t_ctry_y',\n",
    "                 'food_t_ctry_y','losses_t_ctry_y','other_uses_t_ctry_y','processing_t_ctry_y','seeds_t_ctry_y']\n",
    "\n",
    "\n",
    "# on multiplie par 1000 les colonnes nécessaires\n",
    "equil['domestic_t_ctry_y'] = equil['domestic_t_ctry_y'] * 1000\n",
    "equil['feed_t_ctry_y'] = equil['feed_t_ctry_y'] * 1000\n",
    "equil['food_t_ctry_y'] = equil['food_t_ctry_y'] * 1000\n",
    "equil['losses_t_ctry_y'] = equil['losses_t_ctry_y'] * 1000\n",
    "equil['other_uses_t_ctry_y'] = equil['other_uses_t_ctry_y'] * 1000\n",
    "equil['processing_t_ctry_y'] = equil['processing_t_ctry_y'] * 1000\n",
    "equil['seeds_t_ctry_y'] = equil['seeds_t_ctry_y'] * 1000\n",
    "equil.head(2)"
   ]
  },
  {
   "cell_type": "markdown",
   "metadata": {},
   "source": [
    "### 17.2 - Proposez une clé primaire pertinente pour cette table\n",
    "* La clé primaire pertinente est [ctry_cd,item_cd,year]"
   ]
  },
  {
   "cell_type": "code",
   "execution_count": 19,
   "metadata": {},
   "outputs": [],
   "source": [
    "# Export au format .csv\n",
    "equil.to_csv('data/equilibre_prod.csv', index = False)"
   ]
  },
  {
   "cell_type": "markdown",
   "metadata": {},
   "source": [
    "# Question 18\n",
    "* Création d'une table appelée **sous_nutrition**, contenant le nombre de personnes en sous-alimentation pour chaque pays et pour chaque année comprise entre 2012 et la dernière année disponible. \n",
    "* Elle devra contenir 4 colonnes : pays, code_pays, année, nb_personnes.\n",
    "* proposez une clé primaire pertinente pour cette table"
   ]
  },
  {
   "cell_type": "code",
   "execution_count": 20,
   "metadata": {},
   "outputs": [
    {
     "data": {
      "text/html": [
       "<div>\n",
       "<style scoped>\n",
       "    .dataframe tbody tr th:only-of-type {\n",
       "        vertical-align: middle;\n",
       "    }\n",
       "\n",
       "    .dataframe tbody tr th {\n",
       "        vertical-align: top;\n",
       "    }\n",
       "\n",
       "    .dataframe thead th {\n",
       "        text-align: right;\n",
       "    }\n",
       "</style>\n",
       "<table border=\"1\" class=\"dataframe\">\n",
       "  <thead>\n",
       "    <tr style=\"text-align: right;\">\n",
       "      <th></th>\n",
       "      <th>Domain Code</th>\n",
       "      <th>Domain</th>\n",
       "      <th>Area Code</th>\n",
       "      <th>Area</th>\n",
       "      <th>Element Code</th>\n",
       "      <th>Element</th>\n",
       "      <th>Item Code</th>\n",
       "      <th>Item</th>\n",
       "      <th>Year Code</th>\n",
       "      <th>Year</th>\n",
       "      <th>Unit</th>\n",
       "      <th>Value</th>\n",
       "      <th>Flag</th>\n",
       "      <th>Flag Description</th>\n",
       "    </tr>\n",
       "  </thead>\n",
       "  <tbody>\n",
       "    <tr>\n",
       "      <th>0</th>\n",
       "      <td>FS</td>\n",
       "      <td>Suite of Food Security Indicators</td>\n",
       "      <td>2</td>\n",
       "      <td>Afghanistan</td>\n",
       "      <td>6132</td>\n",
       "      <td>Value</td>\n",
       "      <td>210011</td>\n",
       "      <td>Number of people undernourished (million) (3-y...</td>\n",
       "      <td>20112013</td>\n",
       "      <td>2011-2013</td>\n",
       "      <td>millions</td>\n",
       "      <td>7.2</td>\n",
       "      <td>F</td>\n",
       "      <td>FAO estimate</td>\n",
       "    </tr>\n",
       "  </tbody>\n",
       "</table>\n",
       "</div>"
      ],
      "text/plain": [
       "  Domain Code                             Domain  Area Code         Area  \\\n",
       "0          FS  Suite of Food Security Indicators          2  Afghanistan   \n",
       "\n",
       "   Element Code Element  Item Code  \\\n",
       "0          6132   Value     210011   \n",
       "\n",
       "                                                Item  Year Code       Year  \\\n",
       "0  Number of people undernourished (million) (3-y...   20112013  2011-2013   \n",
       "\n",
       "       Unit Value Flag Flag Description  \n",
       "0  millions   7.2    F     FAO estimate  "
      ]
     },
     "execution_count": 20,
     "metadata": {},
     "output_type": "execute_result"
    }
   ],
   "source": [
    "# Import des données 'db_undernourished 2012-2016' de la FAO\n",
    "undnr = pd.read_csv('data/db_undernourished 2012-2016.csv')\n",
    "undnr.head(1)"
   ]
  },
  {
   "cell_type": "markdown",
   "metadata": {},
   "source": [
    "### 18.1 - data wrangling"
   ]
  },
  {
   "cell_type": "code",
   "execution_count": 21,
   "metadata": {},
   "outputs": [
    {
     "data": {
      "text/html": [
       "<div>\n",
       "<style scoped>\n",
       "    .dataframe tbody tr th:only-of-type {\n",
       "        vertical-align: middle;\n",
       "    }\n",
       "\n",
       "    .dataframe tbody tr th {\n",
       "        vertical-align: top;\n",
       "    }\n",
       "\n",
       "    .dataframe thead th {\n",
       "        text-align: right;\n",
       "    }\n",
       "</style>\n",
       "<table border=\"1\" class=\"dataframe\">\n",
       "  <thead>\n",
       "    <tr style=\"text-align: right;\">\n",
       "      <th></th>\n",
       "      <th>Area Code</th>\n",
       "      <th>Area</th>\n",
       "      <th>Year</th>\n",
       "      <th>Value</th>\n",
       "    </tr>\n",
       "  </thead>\n",
       "  <tbody>\n",
       "    <tr>\n",
       "      <th>0</th>\n",
       "      <td>2</td>\n",
       "      <td>Afghanistan</td>\n",
       "      <td>2011-2013</td>\n",
       "      <td>7.2</td>\n",
       "    </tr>\n",
       "  </tbody>\n",
       "</table>\n",
       "</div>"
      ],
      "text/plain": [
       "   Area Code         Area       Year Value\n",
       "0          2  Afghanistan  2011-2013   7.2"
      ]
     },
     "execution_count": 21,
     "metadata": {},
     "output_type": "execute_result"
    }
   ],
   "source": [
    "# On retire les variables inutiles\n",
    "undnr.drop(['Domain Code', 'Domain','Element Code','Element','Item Code',\n",
    "            'Item','Unit','Year Code','Flag', 'Flag Description'], axis=1, inplace = True)\n",
    "undnr.head(1)"
   ]
  },
  {
   "cell_type": "code",
   "execution_count": 22,
   "metadata": {},
   "outputs": [
    {
     "data": {
      "text/plain": [
       "835"
      ]
     },
     "execution_count": 22,
     "metadata": {},
     "output_type": "execute_result"
    }
   ],
   "source": [
    "# on retire les éventuels NaN\n",
    "undnr = undnr[undnr['Value'].notnull()]\n",
    "undnr['Value'].count()"
   ]
  },
  {
   "cell_type": "code",
   "execution_count": 23,
   "metadata": {},
   "outputs": [
    {
     "data": {
      "text/plain": [
       "Area Code     int64\n",
       "Area         object\n",
       "Year         object\n",
       "Value        object\n",
       "dtype: object"
      ]
     },
     "execution_count": 23,
     "metadata": {},
     "output_type": "execute_result"
    }
   ],
   "source": [
    "# format des variables\n",
    "undnr.dtypes"
   ]
  },
  {
   "cell_type": "code",
   "execution_count": 24,
   "metadata": {},
   "outputs": [
    {
     "data": {
      "text/plain": [
       "Area Code      int64\n",
       "Area          object\n",
       "Year          object\n",
       "Value        float64\n",
       "dtype: object"
      ]
     },
     "execution_count": 24,
     "metadata": {},
     "output_type": "execute_result"
    }
   ],
   "source": [
    "# transformation de 'Value' en float64\n",
    "undnr['Value'] = pd.to_numeric(undnr.Value, errors='coerce')\n",
    "# format de 'Value'\n",
    "undnr.dtypes"
   ]
  },
  {
   "cell_type": "code",
   "execution_count": 25,
   "metadata": {},
   "outputs": [
    {
     "data": {
      "text/html": [
       "<div>\n",
       "<style scoped>\n",
       "    .dataframe tbody tr th:only-of-type {\n",
       "        vertical-align: middle;\n",
       "    }\n",
       "\n",
       "    .dataframe tbody tr th {\n",
       "        vertical-align: top;\n",
       "    }\n",
       "\n",
       "    .dataframe thead th {\n",
       "        text-align: right;\n",
       "    }\n",
       "</style>\n",
       "<table border=\"1\" class=\"dataframe\">\n",
       "  <thead>\n",
       "    <tr style=\"text-align: right;\">\n",
       "      <th></th>\n",
       "      <th>Area Code</th>\n",
       "      <th>Area</th>\n",
       "      <th>Year</th>\n",
       "      <th>Value</th>\n",
       "    </tr>\n",
       "  </thead>\n",
       "  <tbody>\n",
       "    <tr>\n",
       "      <th>0</th>\n",
       "      <td>2</td>\n",
       "      <td>Afghanistan</td>\n",
       "      <td>2011-2013</td>\n",
       "      <td>7200000.0</td>\n",
       "    </tr>\n",
       "  </tbody>\n",
       "</table>\n",
       "</div>"
      ],
      "text/plain": [
       "   Area Code         Area       Year      Value\n",
       "0          2  Afghanistan  2011-2013  7200000.0"
      ]
     },
     "execution_count": 25,
     "metadata": {},
     "output_type": "execute_result"
    }
   ],
   "source": [
    "# on multiplie 'Value' par sa valeur = 1000000 persons\n",
    "undnr['Value'] = undnr['Value'] * 1000000\n",
    "undnr.head(1)"
   ]
  },
  {
   "cell_type": "code",
   "execution_count": 26,
   "metadata": {},
   "outputs": [
    {
     "data": {
      "text/plain": [
       "array(['2011-2013', '2012-2014', '2013-2015', '2014-2016', '2015-2017'],\n",
       "      dtype=object)"
      ]
     },
     "execution_count": 26,
     "metadata": {},
     "output_type": "execute_result"
    }
   ],
   "source": [
    "# Valeurs uniques de 'Year'\n",
    "undnr['Year'].unique()"
   ]
  },
  {
   "cell_type": "code",
   "execution_count": 27,
   "metadata": {},
   "outputs": [
    {
     "data": {
      "text/plain": [
       "array(['2012', '2013', '2014', '2015', '2016'], dtype=object)"
      ]
     },
     "execution_count": 27,
     "metadata": {},
     "output_type": "execute_result"
    }
   ],
   "source": [
    "# Les valeurs étant la moyenne sur 3 ans, on les remplace par la valeur moyenne\n",
    "undnr['Year'].replace('2011-2013','2012', inplace = True)\n",
    "undnr['Year'].replace('2012-2014','2013', inplace = True)\n",
    "undnr['Year'].replace('2013-2015','2014', inplace = True)\n",
    "undnr['Year'].replace('2014-2016','2015', inplace = True)\n",
    "undnr['Year'].replace('2015-2017','2016', inplace = True)\n",
    "undnr['Year'].unique()"
   ]
  },
  {
   "cell_type": "code",
   "execution_count": 28,
   "metadata": {
    "scrolled": true
   },
   "outputs": [
    {
     "data": {
      "text/html": [
       "<div>\n",
       "<style scoped>\n",
       "    .dataframe tbody tr th:only-of-type {\n",
       "        vertical-align: middle;\n",
       "    }\n",
       "\n",
       "    .dataframe tbody tr th {\n",
       "        vertical-align: top;\n",
       "    }\n",
       "\n",
       "    .dataframe thead th {\n",
       "        text-align: right;\n",
       "    }\n",
       "</style>\n",
       "<table border=\"1\" class=\"dataframe\">\n",
       "  <thead>\n",
       "    <tr style=\"text-align: right;\">\n",
       "      <th></th>\n",
       "      <th>ctry_cd</th>\n",
       "      <th>country</th>\n",
       "      <th>year</th>\n",
       "      <th>undernourished</th>\n",
       "    </tr>\n",
       "  </thead>\n",
       "  <tbody>\n",
       "    <tr>\n",
       "      <th>0</th>\n",
       "      <td>2</td>\n",
       "      <td>Afghanistan</td>\n",
       "      <td>2012</td>\n",
       "      <td>7200000.0</td>\n",
       "    </tr>\n",
       "  </tbody>\n",
       "</table>\n",
       "</div>"
      ],
      "text/plain": [
       "   ctry_cd      country  year  undernourished\n",
       "0        2  Afghanistan  2012       7200000.0"
      ]
     },
     "execution_count": 28,
     "metadata": {},
     "output_type": "execute_result"
    }
   ],
   "source": [
    "# On renomme les variables\n",
    "undnr.columns = ['ctry_cd','country','year','undernourished']\n",
    "undnr.head(1)"
   ]
  },
  {
   "cell_type": "markdown",
   "metadata": {},
   "source": [
    "### 18.2 - Proposez une clé primaire pertinente\n",
    "* La clé primaire pertinente est [ctry_cd,year]"
   ]
  }
 ],
 "metadata": {
  "kernelspec": {
   "display_name": "Python 3",
   "language": "python",
   "name": "python3"
  },
  "language_info": {
   "codemirror_mode": {
    "name": "ipython",
    "version": 3
   },
   "file_extension": ".py",
   "mimetype": "text/x-python",
   "name": "python",
   "nbconvert_exporter": "python",
   "pygments_lexer": "ipython3",
   "version": "3.7.1"
  }
 },
 "nbformat": 4,
 "nbformat_minor": 2
}
